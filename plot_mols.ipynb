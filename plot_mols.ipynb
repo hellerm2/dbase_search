{
 "cells": [
  {
   "cell_type": "code",
   "execution_count": 1,
   "metadata": {},
   "outputs": [],
   "source": [
    "import pandas as pd\n",
    "\n",
    "from rdkit import Chem\n",
    "from rdkit.Chem import AllChem\n",
    "from rdkit.Chem import PandasTools\n",
    "from rdkit.Chem.Draw import MolsToGridImage\n",
    "from rdkit.Chem.Draw import IPythonConsole\n",
    "from rdkit.Chem import rdDepictor\n",
    "\n",
    "rdDepictor.SetPreferCoordGen(True)\n",
    "IPythonConsole.ipython_useSVG = True"
   ]
  },
  {
   "cell_type": "markdown",
   "metadata": {},
   "source": [
    "The next bit of code is a workaround to circumvent the broken Molrendering caused by changes in [Pandas v0.25.x](https://github.com/rdkit/rdkit/issues/2673)."
   ]
  },
  {
   "cell_type": "code",
   "execution_count": 2,
   "metadata": {},
   "outputs": [],
   "source": [
    "PandasTools.RenderImagesInAllDataFrames(images=True)\n",
    "\n",
    "from IPython.core.display import HTML\n",
    "\n",
    "def show(df):\n",
    "    return HTML(df.to_html(notebook=True))"
   ]
  },
  {
   "cell_type": "code",
   "execution_count": 3,
   "metadata": {},
   "outputs": [],
   "source": [
    "hits_df = PandasTools.LoadSDF('substruct_hits.sdf', molColName='mol')"
   ]
  },
  {
   "cell_type": "code",
   "execution_count": 4,
   "metadata": {},
   "outputs": [
    {
     "data": {
      "text/html": [
       "<div>\n",
       "<style scoped>\n",
       "    .dataframe tbody tr th:only-of-type {\n",
       "        vertical-align: middle;\n",
       "    }\n",
       "\n",
       "    .dataframe tbody tr th {\n",
       "        vertical-align: top;\n",
       "    }\n",
       "\n",
       "    .dataframe thead th {\n",
       "        text-align: right;\n",
       "    }\n",
       "</style>\n",
       "<table border=\"1\" class=\"dataframe\">\n",
       "  <thead>\n",
       "    <tr style=\"text-align: right;\">\n",
       "      <th></th>\n",
       "      <th>ID</th>\n",
       "      <th>mol</th>\n",
       "    </tr>\n",
       "  </thead>\n",
       "  <tbody>\n",
       "    <tr>\n",
       "      <th>0</th>\n",
       "      <td>MolPort-000-000-304</td>\n",
       "      <td><img src=\"data:image/png;base64,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\" alt=\"Mol\"/></td>\n",
       "    </tr>\n",
       "    <tr>\n",
       "      <th>1</th>\n",
       "      <td>MolPort-000-000-321</td>\n",
       "      <td><img src=\"data:image/png;base64,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\" alt=\"Mol\"/></td>\n",
       "    </tr>\n",
       "    <tr>\n",
       "      <th>2</th>\n",
       "      <td>MolPort-000-000-390</td>\n",
       "      <td><img src=\"data:image/png;base64,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\" alt=\"Mol\"/></td>\n",
       "    </tr>\n",
       "    <tr>\n",
       "      <th>3</th>\n",
       "      <td>MolPort-000-000-411</td>\n",
       "      <td><img src=\"data:image/png;base64,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\" alt=\"Mol\"/></td>\n",
       "    </tr>\n",
       "  </tbody>\n",
       "</table>\n",
       "</div>"
      ],
      "text/plain": [
       "<IPython.core.display.HTML object>"
      ]
     },
     "execution_count": 4,
     "metadata": {},
     "output_type": "execute_result"
    }
   ],
   "source": [
    "show(hits_df)"
   ]
  },
  {
   "cell_type": "code",
   "execution_count": 5,
   "metadata": {},
   "outputs": [
    {
     "data": {
      "text/plain": [
       "(4, 2)"
      ]
     },
     "execution_count": 5,
     "metadata": {},
     "output_type": "execute_result"
    }
   ],
   "source": [
    "hits_df.shape"
   ]
  },
  {
   "cell_type": "markdown",
   "metadata": {},
   "source": [
    "We want to align the molecules in our plots to the substructure search query, so we define the query as `scaffold`, and use that to perform the alignment."
   ]
  },
  {
   "cell_type": "code",
   "execution_count": 6,
   "metadata": {},
   "outputs": [],
   "source": [
    "hits_df['scaffold'] = 'c1ccncc1'"
   ]
  },
  {
   "cell_type": "code",
   "execution_count": 7,
   "metadata": {},
   "outputs": [],
   "source": [
    "PandasTools.AlignToScaffold(hits_df, molCol='mol', scaffoldCol='scaffold')"
   ]
  },
  {
   "cell_type": "code",
   "execution_count": 8,
   "metadata": {
    "scrolled": true
   },
   "outputs": [
    {
     "data": {
      "image/svg+xml": [
       "<svg baseProfile=\"full\" height=\"200px\" version=\"1.1\" width=\"800px\" xml:space=\"preserve\" xmlns=\"http://www.w3.org/2000/svg\" xmlns:rdkit=\"http://www.rdkit.org/xml\" xmlns:xlink=\"http://www.w3.org/1999/xlink\">\n",
       "<!-- END OF HEADER -->\n",
       "<rect height=\"200\" style=\"opacity:1.0;fill:#FFFFFF;stroke:none\" width=\"800\" x=\"0\" y=\"0\"> </rect>\n",
       "<path class=\"bond-0\" d=\"M 11.8287,43.1464 44.8734,62.3982\" style=\"fill:none;fill-rule:evenodd;stroke:#000000;stroke-width:2px;stroke-linecap:butt;stroke-linejoin:miter;stroke-opacity:1\"/>\n",
       "<path class=\"bond-1\" d=\"M 44.8734,62.3982 78.0638,43.4071\" style=\"fill:none;fill-rule:evenodd;stroke:#000000;stroke-width:2px;stroke-linecap:butt;stroke-linejoin:miter;stroke-opacity:1\"/>\n",
       "<path class=\"bond-1\" d=\"M 53.2789,65.5387 76.5122,52.2449\" style=\"fill:none;fill-rule:evenodd;stroke:#000000;stroke-width:2px;stroke-linecap:butt;stroke-linejoin:miter;stroke-opacity:1\"/>\n",
       "<path class=\"bond-11\" d=\"M 44.8734,62.3982 44.8159,76.724\" style=\"fill:none;fill-rule:evenodd;stroke:#000000;stroke-width:2px;stroke-linecap:butt;stroke-linejoin:miter;stroke-opacity:1\"/>\n",
       "<path class=\"bond-11\" d=\"M 44.8159,76.724 44.7585,91.0497\" style=\"fill:none;fill-rule:evenodd;stroke:#0000FF;stroke-width:2px;stroke-linecap:butt;stroke-linejoin:miter;stroke-opacity:1\"/>\n",
       "<path class=\"bond-2\" d=\"M 78.0638,43.4071 111.109,62.6666\" style=\"fill:none;fill-rule:evenodd;stroke:#000000;stroke-width:2px;stroke-linecap:butt;stroke-linejoin:miter;stroke-opacity:1\"/>\n",
       "<path class=\"bond-3\" d=\"M 111.109,62.6666 110.948,100.902\" style=\"fill:none;fill-rule:evenodd;stroke:#000000;stroke-width:2px;stroke-linecap:butt;stroke-linejoin:miter;stroke-opacity:1\"/>\n",
       "<path class=\"bond-3\" d=\"M 104.184,68.3728 104.071,95.1375\" style=\"fill:none;fill-rule:evenodd;stroke:#000000;stroke-width:2px;stroke-linecap:butt;stroke-linejoin:miter;stroke-opacity:1\"/>\n",
       "<path class=\"bond-10\" d=\"M 111.109,62.6666 118.492,58.442\" style=\"fill:none;fill-rule:evenodd;stroke:#000000;stroke-width:2px;stroke-linecap:butt;stroke-linejoin:miter;stroke-opacity:1\"/>\n",
       "<path class=\"bond-10\" d=\"M 118.492,58.442 125.875,54.2175\" style=\"fill:none;fill-rule:evenodd;stroke:#0000FF;stroke-width:2px;stroke-linecap:butt;stroke-linejoin:miter;stroke-opacity:1\"/>\n",
       "<path class=\"bond-4\" d=\"M 110.948,100.902 77.7571,119.893\" style=\"fill:none;fill-rule:evenodd;stroke:#000000;stroke-width:2px;stroke-linecap:butt;stroke-linejoin:miter;stroke-opacity:1\"/>\n",
       "<path class=\"bond-12\" d=\"M 110.948,100.902 143.992,120.154\" style=\"fill:none;fill-rule:evenodd;stroke:#000000;stroke-width:2px;stroke-linecap:butt;stroke-linejoin:miter;stroke-opacity:1\"/>\n",
       "<path class=\"bond-5\" d=\"M 77.7571,119.893 65.3919,112.684\" style=\"fill:none;fill-rule:evenodd;stroke:#000000;stroke-width:2px;stroke-linecap:butt;stroke-linejoin:miter;stroke-opacity:1\"/>\n",
       "<path class=\"bond-5\" d=\"M 65.3919,112.684 53.0267,105.476\" style=\"fill:none;fill-rule:evenodd;stroke:#0000FF;stroke-width:2px;stroke-linecap:butt;stroke-linejoin:miter;stroke-opacity:1\"/>\n",
       "<path class=\"bond-5\" d=\"M 77.5228,111.769 68.8671,106.723\" style=\"fill:none;fill-rule:evenodd;stroke:#000000;stroke-width:2px;stroke-linecap:butt;stroke-linejoin:miter;stroke-opacity:1\"/>\n",
       "<path class=\"bond-5\" d=\"M 68.8671,106.723 60.2115,101.677\" style=\"fill:none;fill-rule:evenodd;stroke:#0000FF;stroke-width:2px;stroke-linecap:butt;stroke-linejoin:miter;stroke-opacity:1\"/>\n",
       "<path class=\"bond-6\" d=\"M 77.7571,119.893 77.6038,158.128\" style=\"fill:none;fill-rule:evenodd;stroke:#000000;stroke-width:2px;stroke-linecap:butt;stroke-linejoin:miter;stroke-opacity:1\"/>\n",
       "<path class=\"bond-7\" d=\"M 77.6038,158.128 110.641,177.38\" style=\"fill:none;fill-rule:evenodd;stroke:#000000;stroke-width:2px;stroke-linecap:butt;stroke-linejoin:miter;stroke-opacity:1\"/>\n",
       "<path class=\"bond-8\" d=\"M 110.641,177.38 143.839,158.397\" style=\"fill:none;fill-rule:evenodd;stroke:#000000;stroke-width:2px;stroke-linecap:butt;stroke-linejoin:miter;stroke-opacity:1\"/>\n",
       "<path class=\"bond-9\" d=\"M 143.839,158.397 143.992,120.154\" style=\"fill:none;fill-rule:evenodd;stroke:#000000;stroke-width:2px;stroke-linecap:butt;stroke-linejoin:miter;stroke-opacity:1\"/>\n",
       "<text style=\"font-size:19px;font-style:normal;font-weight:normal;fill-opacity:1;stroke:none;font-family:sans-serif;text-anchor:start;fill:#0000FF\" x=\"36.4134\" y=\"110.217\"><tspan>N</tspan></text>\n",
       "<text style=\"font-size:19px;font-style:normal;font-weight:normal;fill-opacity:1;stroke:none;font-family:sans-serif;text-anchor:start;fill:#0000FF\" x=\"124.487\" y=\"54.2175\"><tspan>NH</tspan><tspan style=\"baseline-shift:sub;font-size:14.25px;\">2</tspan><tspan/></text>\n",
       "<text style=\"font-size:12px;font-style:normal;font-weight:normal;fill-opacity:1;stroke:none;font-family:sans-serif;text-anchor:start;fill:#000000\" x=\"31.9472\" y=\"194\"><tspan>MolPort-000-000-304</tspan></text>\n",
       "<path class=\"bond-0\" d=\"M 275.326,38.6216 308.363,57.8734\" style=\"fill:none;fill-rule:evenodd;stroke:#000000;stroke-width:2px;stroke-linecap:butt;stroke-linejoin:miter;stroke-opacity:1\"/>\n",
       "<path class=\"bond-0\" d=\"M 276.807,47.4712 299.933,60.9475\" style=\"fill:none;fill-rule:evenodd;stroke:#000000;stroke-width:2px;stroke-linecap:butt;stroke-linejoin:miter;stroke-opacity:1\"/>\n",
       "<path class=\"bond-11\" d=\"M 275.326,38.6216 242.128,57.6051\" style=\"fill:none;fill-rule:evenodd;stroke:#000000;stroke-width:2px;stroke-linecap:butt;stroke-linejoin:miter;stroke-opacity:1\"/>\n",
       "<path class=\"bond-1\" d=\"M 308.363,57.8734 308.21,96.1087\" style=\"fill:none;fill-rule:evenodd;stroke:#000000;stroke-width:2px;stroke-linecap:butt;stroke-linejoin:miter;stroke-opacity:1\"/>\n",
       "<path class=\"bond-2\" d=\"M 308.21,96.1087 341.254,115.36\" style=\"fill:none;fill-rule:evenodd;stroke:#000000;stroke-width:2px;stroke-linecap:butt;stroke-linejoin:miter;stroke-opacity:1\"/>\n",
       "<path class=\"bond-2\" d=\"M 309.693,104.959 332.824,118.435\" style=\"fill:none;fill-rule:evenodd;stroke:#000000;stroke-width:2px;stroke-linecap:butt;stroke-linejoin:miter;stroke-opacity:1\"/>\n",
       "<path class=\"bond-12\" d=\"M 308.21,96.1087 275.019,115.1\" style=\"fill:none;fill-rule:evenodd;stroke:#000000;stroke-width:2px;stroke-linecap:butt;stroke-linejoin:miter;stroke-opacity:1\"/>\n",
       "<path class=\"bond-3\" d=\"M 341.254,115.36 341.093,153.603\" style=\"fill:none;fill-rule:evenodd;stroke:#000000;stroke-width:2px;stroke-linecap:butt;stroke-linejoin:miter;stroke-opacity:1\"/>\n",
       "<path class=\"bond-10\" d=\"M 341.254,115.36 348.634,111.14\" style=\"fill:none;fill-rule:evenodd;stroke:#000000;stroke-width:2px;stroke-linecap:butt;stroke-linejoin:miter;stroke-opacity:1\"/>\n",
       "<path class=\"bond-10\" d=\"M 348.634,111.14 356.013,106.919\" style=\"fill:none;fill-rule:evenodd;stroke:#0000FF;stroke-width:2px;stroke-linecap:butt;stroke-linejoin:miter;stroke-opacity:1\"/>\n",
       "<path class=\"bond-4\" d=\"M 341.093,153.603 307.903,172.595\" style=\"fill:none;fill-rule:evenodd;stroke:#000000;stroke-width:2px;stroke-linecap:butt;stroke-linejoin:miter;stroke-opacity:1\"/>\n",
       "<path class=\"bond-4\" d=\"M 332.688,150.463 309.455,163.757\" style=\"fill:none;fill-rule:evenodd;stroke:#000000;stroke-width:2px;stroke-linecap:butt;stroke-linejoin:miter;stroke-opacity:1\"/>\n",
       "<path class=\"bond-5\" d=\"M 307.903,172.595 295.538,165.386\" style=\"fill:none;fill-rule:evenodd;stroke:#000000;stroke-width:2px;stroke-linecap:butt;stroke-linejoin:miter;stroke-opacity:1\"/>\n",
       "<path class=\"bond-5\" d=\"M 295.538,165.386 283.173,158.178\" style=\"fill:none;fill-rule:evenodd;stroke:#0000FF;stroke-width:2px;stroke-linecap:butt;stroke-linejoin:miter;stroke-opacity:1\"/>\n",
       "<path class=\"bond-6\" d=\"M 274.904,143.751 274.962,129.426\" style=\"fill:none;fill-rule:evenodd;stroke:#0000FF;stroke-width:2px;stroke-linecap:butt;stroke-linejoin:miter;stroke-opacity:1\"/>\n",
       "<path class=\"bond-6\" d=\"M 274.962,129.426 275.019,115.1\" style=\"fill:none;fill-rule:evenodd;stroke:#000000;stroke-width:2px;stroke-linecap:butt;stroke-linejoin:miter;stroke-opacity:1\"/>\n",
       "<path class=\"bond-6\" d=\"M 281.822,139.481 281.862,129.453\" style=\"fill:none;fill-rule:evenodd;stroke:#0000FF;stroke-width:2px;stroke-linecap:butt;stroke-linejoin:miter;stroke-opacity:1\"/>\n",
       "<path class=\"bond-6\" d=\"M 281.862,129.453 281.902,119.425\" style=\"fill:none;fill-rule:evenodd;stroke:#000000;stroke-width:2px;stroke-linecap:butt;stroke-linejoin:miter;stroke-opacity:1\"/>\n",
       "<path class=\"bond-7\" d=\"M 275.019,115.1 241.975,95.848\" style=\"fill:none;fill-rule:evenodd;stroke:#000000;stroke-width:2px;stroke-linecap:butt;stroke-linejoin:miter;stroke-opacity:1\"/>\n",
       "<path class=\"bond-8\" d=\"M 241.975,95.848 242.128,57.6051\" style=\"fill:none;fill-rule:evenodd;stroke:#000000;stroke-width:2px;stroke-linecap:butt;stroke-linejoin:miter;stroke-opacity:1\"/>\n",
       "<path class=\"bond-8\" d=\"M 248.898,90.1392 249.005,63.3692\" style=\"fill:none;fill-rule:evenodd;stroke:#000000;stroke-width:2px;stroke-linecap:butt;stroke-linejoin:miter;stroke-opacity:1\"/>\n",
       "<path class=\"bond-9\" d=\"M 242.128,57.6051 231.04,51.1436\" style=\"fill:none;fill-rule:evenodd;stroke:#000000;stroke-width:2px;stroke-linecap:butt;stroke-linejoin:miter;stroke-opacity:1\"/>\n",
       "<path class=\"bond-9\" d=\"M 231.04,51.1436 219.952,44.6822\" style=\"fill:none;fill-rule:evenodd;stroke:#00CC00;stroke-width:2px;stroke-linecap:butt;stroke-linejoin:miter;stroke-opacity:1\"/>\n",
       "<text style=\"font-size:19px;font-style:normal;font-weight:normal;fill-opacity:1;stroke:none;font-family:sans-serif;text-anchor:start;fill:#0000FF\" x=\"266.559\" y=\"162.919\"><tspan>N</tspan></text>\n",
       "<text style=\"font-size:19px;font-style:normal;font-weight:normal;fill-opacity:1;stroke:none;font-family:sans-serif;text-anchor:start;fill:#00CC00\" x=\"198.23\" y=\"47.937\"><tspan>Cl</tspan></text>\n",
       "<text style=\"font-size:19px;font-style:normal;font-weight:normal;fill-opacity:1;stroke:none;font-family:sans-serif;text-anchor:start;fill:#0000FF\" x=\"354.633\" y=\"106.919\"><tspan>NH</tspan><tspan style=\"baseline-shift:sub;font-size:14.25px;\">2</tspan><tspan/></text>\n",
       "<text style=\"font-size:12px;font-style:normal;font-weight:normal;fill-opacity:1;stroke:none;font-family:sans-serif;text-anchor:start;fill:#000000\" x=\"231.947\" y=\"194\"><tspan>MolPort-000-000-321</tspan></text>\n",
       "<path class=\"bond-0\" d=\"M 458.822,22.6199 491.867,41.8794\" style=\"fill:none;fill-rule:evenodd;stroke:#000000;stroke-width:2px;stroke-linecap:butt;stroke-linejoin:miter;stroke-opacity:1\"/>\n",
       "<path class=\"bond-0\" d=\"M 460.304,31.4705 483.436,44.9521\" style=\"fill:none;fill-rule:evenodd;stroke:#000000;stroke-width:2px;stroke-linecap:butt;stroke-linejoin:miter;stroke-opacity:1\"/>\n",
       "<path class=\"bond-11\" d=\"M 458.822,22.6199 425.632,41.6111\" style=\"fill:none;fill-rule:evenodd;stroke:#000000;stroke-width:2px;stroke-linecap:butt;stroke-linejoin:miter;stroke-opacity:1\"/>\n",
       "<path class=\"bond-1\" d=\"M 491.867,41.8794 491.706,80.1147\" style=\"fill:none;fill-rule:evenodd;stroke:#000000;stroke-width:2px;stroke-linecap:butt;stroke-linejoin:miter;stroke-opacity:1\"/>\n",
       "<path class=\"bond-2\" d=\"M 491.706,80.1147 524.751,99.3665\" style=\"fill:none;fill-rule:evenodd;stroke:#000000;stroke-width:2px;stroke-linecap:butt;stroke-linejoin:miter;stroke-opacity:1\"/>\n",
       "<path class=\"bond-2\" d=\"M 493.189,88.9647 516.32,102.441\" style=\"fill:none;fill-rule:evenodd;stroke:#000000;stroke-width:2px;stroke-linecap:butt;stroke-linejoin:miter;stroke-opacity:1\"/>\n",
       "<path class=\"bond-12\" d=\"M 491.706,80.1147 458.516,99.1058\" style=\"fill:none;fill-rule:evenodd;stroke:#000000;stroke-width:2px;stroke-linecap:butt;stroke-linejoin:miter;stroke-opacity:1\"/>\n",
       "<path class=\"bond-3\" d=\"M 524.751,99.3665 524.597,137.609\" style=\"fill:none;fill-rule:evenodd;stroke:#000000;stroke-width:2px;stroke-linecap:butt;stroke-linejoin:miter;stroke-opacity:1\"/>\n",
       "<path class=\"bond-4\" d=\"M 524.597,137.609 491.399,156.593\" style=\"fill:none;fill-rule:evenodd;stroke:#000000;stroke-width:2px;stroke-linecap:butt;stroke-linejoin:miter;stroke-opacity:1\"/>\n",
       "<path class=\"bond-4\" d=\"M 516.192,134.467 492.954,147.755\" style=\"fill:none;fill-rule:evenodd;stroke:#000000;stroke-width:2px;stroke-linecap:butt;stroke-linejoin:miter;stroke-opacity:1\"/>\n",
       "<path class=\"bond-9\" d=\"M 524.597,137.609 557.634,156.861\" style=\"fill:none;fill-rule:evenodd;stroke:#000000;stroke-width:2px;stroke-linecap:butt;stroke-linejoin:miter;stroke-opacity:1\"/>\n",
       "<path class=\"bond-5\" d=\"M 491.399,156.593 458.362,137.341\" style=\"fill:none;fill-rule:evenodd;stroke:#000000;stroke-width:2px;stroke-linecap:butt;stroke-linejoin:miter;stroke-opacity:1\"/>\n",
       "<path class=\"bond-6\" d=\"M 458.362,137.341 458.516,99.1058\" style=\"fill:none;fill-rule:evenodd;stroke:#000000;stroke-width:2px;stroke-linecap:butt;stroke-linejoin:miter;stroke-opacity:1\"/>\n",
       "<path class=\"bond-6\" d=\"M 465.285,131.633 465.393,104.869\" style=\"fill:none;fill-rule:evenodd;stroke:#000000;stroke-width:2px;stroke-linecap:butt;stroke-linejoin:miter;stroke-opacity:1\"/>\n",
       "<path class=\"bond-7\" d=\"M 458.516,99.1058 446.15,91.8973\" style=\"fill:none;fill-rule:evenodd;stroke:#000000;stroke-width:2px;stroke-linecap:butt;stroke-linejoin:miter;stroke-opacity:1\"/>\n",
       "<path class=\"bond-7\" d=\"M 446.15,91.8973 433.785,84.6889\" style=\"fill:none;fill-rule:evenodd;stroke:#0000FF;stroke-width:2px;stroke-linecap:butt;stroke-linejoin:miter;stroke-opacity:1\"/>\n",
       "<path class=\"bond-8\" d=\"M 425.517,70.2626 425.574,55.9369\" style=\"fill:none;fill-rule:evenodd;stroke:#0000FF;stroke-width:2px;stroke-linecap:butt;stroke-linejoin:miter;stroke-opacity:1\"/>\n",
       "<path class=\"bond-8\" d=\"M 425.574,55.9369 425.632,41.6111\" style=\"fill:none;fill-rule:evenodd;stroke:#000000;stroke-width:2px;stroke-linecap:butt;stroke-linejoin:miter;stroke-opacity:1\"/>\n",
       "<path class=\"bond-8\" d=\"M 432.434,65.9926 432.475,55.9645\" style=\"fill:none;fill-rule:evenodd;stroke:#0000FF;stroke-width:2px;stroke-linecap:butt;stroke-linejoin:miter;stroke-opacity:1\"/>\n",
       "<path class=\"bond-8\" d=\"M 432.475,55.9645 432.515,45.9365\" style=\"fill:none;fill-rule:evenodd;stroke:#000000;stroke-width:2px;stroke-linecap:butt;stroke-linejoin:miter;stroke-opacity:1\"/>\n",
       "<path class=\"bond-10\" d=\"M 557.634,156.861 565.055,152.618\" style=\"fill:none;fill-rule:evenodd;stroke:#000000;stroke-width:2px;stroke-linecap:butt;stroke-linejoin:miter;stroke-opacity:1\"/>\n",
       "<path class=\"bond-10\" d=\"M 565.055,152.618 572.475,148.374\" style=\"fill:none;fill-rule:evenodd;stroke:#0000FF;stroke-width:2px;stroke-linecap:butt;stroke-linejoin:miter;stroke-opacity:1\"/>\n",
       "<text style=\"font-size:19px;font-style:normal;font-weight:normal;fill-opacity:1;stroke:none;font-family:sans-serif;text-anchor:start;fill:#0000FF\" x=\"417.172\" y=\"89.4301\"><tspan>N</tspan></text>\n",
       "<text style=\"font-size:19px;font-style:normal;font-weight:normal;fill-opacity:1;stroke:none;font-family:sans-serif;text-anchor:start;fill:#0000FF\" x=\"571.097\" y=\"148.374\"><tspan>NH</tspan><tspan style=\"baseline-shift:sub;font-size:14.25px;\">2</tspan><tspan/></text>\n",
       "<text style=\"font-size:12px;font-style:normal;font-weight:normal;fill-opacity:1;stroke:none;font-family:sans-serif;text-anchor:start;fill:#000000\" x=\"431.947\" y=\"194\"><tspan>MolPort-000-000-390</tspan></text>\n",
       "<path class=\"bond-0\" d=\"M 649.398,46.9778 682.589,66.1344\" style=\"fill:none;fill-rule:evenodd;stroke:#000000;stroke-width:2px;stroke-linecap:butt;stroke-linejoin:miter;stroke-opacity:1\"/>\n",
       "<path class=\"bond-0\" d=\"M 650.928,55.8276 674.161,69.2372\" style=\"fill:none;fill-rule:evenodd;stroke:#000000;stroke-width:2px;stroke-linecap:butt;stroke-linejoin:miter;stroke-opacity:1\"/>\n",
       "<path class=\"bond-10\" d=\"M 649.398,46.9778 616.204,66.1336\" style=\"fill:none;fill-rule:evenodd;stroke:#000000;stroke-width:2px;stroke-linecap:butt;stroke-linejoin:miter;stroke-opacity:1\"/>\n",
       "<path class=\"bond-1\" d=\"M 682.589,66.1344 682.595,104.466\" style=\"fill:none;fill-rule:evenodd;stroke:#000000;stroke-width:2px;stroke-linecap:butt;stroke-linejoin:miter;stroke-opacity:1\"/>\n",
       "<path class=\"bond-2\" d=\"M 682.595,104.466 649.397,123.616\" style=\"fill:none;fill-rule:evenodd;stroke:#000000;stroke-width:2px;stroke-linecap:butt;stroke-linejoin:miter;stroke-opacity:1\"/>\n",
       "<path class=\"bond-2\" d=\"M 674.168,101.361 650.929,114.766\" style=\"fill:none;fill-rule:evenodd;stroke:#000000;stroke-width:2px;stroke-linecap:butt;stroke-linejoin:miter;stroke-opacity:1\"/>\n",
       "<path class=\"bond-5\" d=\"M 682.595,104.466 715.772,123.619\" style=\"fill:none;fill-rule:evenodd;stroke:#000000;stroke-width:2px;stroke-linecap:butt;stroke-linejoin:miter;stroke-opacity:1\"/>\n",
       "<path class=\"bond-3\" d=\"M 649.397,123.616 636.953,116.436\" style=\"fill:none;fill-rule:evenodd;stroke:#000000;stroke-width:2px;stroke-linecap:butt;stroke-linejoin:miter;stroke-opacity:1\"/>\n",
       "<path class=\"bond-3\" d=\"M 636.953,116.436 624.51,109.257\" style=\"fill:none;fill-rule:evenodd;stroke:#0000FF;stroke-width:2px;stroke-linecap:butt;stroke-linejoin:miter;stroke-opacity:1\"/>\n",
       "<path class=\"bond-4\" d=\"M 616.203,94.8808 616.204,80.5072\" style=\"fill:none;fill-rule:evenodd;stroke:#0000FF;stroke-width:2px;stroke-linecap:butt;stroke-linejoin:miter;stroke-opacity:1\"/>\n",
       "<path class=\"bond-4\" d=\"M 616.204,80.5072 616.204,66.1336\" style=\"fill:none;fill-rule:evenodd;stroke:#000000;stroke-width:2px;stroke-linecap:butt;stroke-linejoin:miter;stroke-opacity:1\"/>\n",
       "<path class=\"bond-4\" d=\"M 623.104,90.5688 623.104,80.5073\" style=\"fill:none;fill-rule:evenodd;stroke:#0000FF;stroke-width:2px;stroke-linecap:butt;stroke-linejoin:miter;stroke-opacity:1\"/>\n",
       "<path class=\"bond-4\" d=\"M 623.104,80.5073 623.104,70.4457\" style=\"fill:none;fill-rule:evenodd;stroke:#000000;stroke-width:2px;stroke-linecap:butt;stroke-linejoin:miter;stroke-opacity:1\"/>\n",
       "<path class=\"bond-6\" d=\"M 715.772,123.619 748.969,104.451\" style=\"fill:none;fill-rule:evenodd;stroke:#000000;stroke-width:2px;stroke-linecap:butt;stroke-linejoin:miter;stroke-opacity:1\"/>\n",
       "<path class=\"bond-9\" d=\"M 715.772,123.619 715.772,137.515\" style=\"fill:none;fill-rule:evenodd;stroke:#000000;stroke-width:2px;stroke-linecap:butt;stroke-linejoin:miter;stroke-opacity:1\"/>\n",
       "<path class=\"bond-9\" d=\"M 715.772,137.515 715.771,151.411\" style=\"fill:none;fill-rule:evenodd;stroke:#0000FF;stroke-width:2px;stroke-linecap:butt;stroke-linejoin:miter;stroke-opacity:1\"/>\n",
       "<path class=\"bond-7\" d=\"M 752.419,104.451 752.419,90.0753\" style=\"fill:none;fill-rule:evenodd;stroke:#000000;stroke-width:2px;stroke-linecap:butt;stroke-linejoin:miter;stroke-opacity:1\"/>\n",
       "<path class=\"bond-7\" d=\"M 752.419,90.0753 752.419,75.6996\" style=\"fill:none;fill-rule:evenodd;stroke:#FF0000;stroke-width:2px;stroke-linecap:butt;stroke-linejoin:miter;stroke-opacity:1\"/>\n",
       "<path class=\"bond-7\" d=\"M 745.519,104.451 745.519,90.0753\" style=\"fill:none;fill-rule:evenodd;stroke:#000000;stroke-width:2px;stroke-linecap:butt;stroke-linejoin:miter;stroke-opacity:1\"/>\n",
       "<path class=\"bond-7\" d=\"M 745.519,90.0753 745.519,75.6996\" style=\"fill:none;fill-rule:evenodd;stroke:#FF0000;stroke-width:2px;stroke-linecap:butt;stroke-linejoin:miter;stroke-opacity:1\"/>\n",
       "<path class=\"bond-8\" d=\"M 748.969,104.451 757.269,109.243\" style=\"fill:none;fill-rule:evenodd;stroke:#000000;stroke-width:2px;stroke-linecap:butt;stroke-linejoin:miter;stroke-opacity:1\"/>\n",
       "<path class=\"bond-8\" d=\"M 757.269,109.243 765.568,114.035\" style=\"fill:none;fill-rule:evenodd;stroke:#FF0000;stroke-width:2px;stroke-linecap:butt;stroke-linejoin:miter;stroke-opacity:1\"/>\n",
       "<text style=\"font-size:19px;font-style:normal;font-weight:normal;fill-opacity:1;stroke:none;font-family:sans-serif;text-anchor:start;fill:#0000FF\" x=\"607.897\" y=\"114.048\"><tspan>N</tspan></text>\n",
       "<text style=\"font-size:19px;font-style:normal;font-weight:normal;fill-opacity:1;stroke:none;font-family:sans-serif;text-anchor:start;fill:#FF0000\" x=\"740.018\" y=\"75.6996\"><tspan>O</tspan></text>\n",
       "<text style=\"font-size:19px;font-style:normal;font-weight:normal;fill-opacity:1;stroke:none;font-family:sans-serif;text-anchor:start;fill:#FF0000\" x=\"764.91\" y=\"133.202\"><tspan>OH</tspan></text>\n",
       "<text style=\"font-size:19px;font-style:normal;font-weight:normal;fill-opacity:1;stroke:none;font-family:sans-serif;text-anchor:start;fill:#0000FF\" x=\"695.959\" y=\"172.495\"><tspan>NH</tspan><tspan style=\"baseline-shift:sub;font-size:14.25px;\">2</tspan><tspan/></text>\n",
       "<text style=\"font-size:12px;font-style:normal;font-weight:normal;fill-opacity:1;stroke:none;font-family:sans-serif;text-anchor:start;fill:#000000\" x=\"631.947\" y=\"194\"><tspan>MolPort-000-000-411</tspan></text>\n",
       "</svg>"
      ],
      "text/plain": [
       "<IPython.core.display.SVG object>"
      ]
     },
     "execution_count": 8,
     "metadata": {},
     "output_type": "execute_result"
    }
   ],
   "source": [
    "PandasTools.FrameToGridImage(hits_df, column='mol', legendsCol='ID', molsPerRow=4)"
   ]
  },
  {
   "cell_type": "markdown",
   "metadata": {},
   "source": [
    "Since we might have a large number of hits, we'll want to plot them in chunks, so it's easier to include them in reports etc.  In order to do that, we define a function called `split`, that will split a dataframe in chunks according to a user-defined chunk size.  Full disclosure: I found the function via a Google search, but I forgot to grab the link of the webpage I copied it from."
   ]
  },
  {
   "cell_type": "code",
   "execution_count": 9,
   "metadata": {},
   "outputs": [],
   "source": [
    "import numpy as np\n",
    "from rdkit.Chem import Draw"
   ]
  },
  {
   "cell_type": "code",
   "execution_count": 10,
   "metadata": {},
   "outputs": [],
   "source": [
    "# Define a function that splits the big df\n",
    "def split(dfrm, chunk_size):\n",
    "    def index_marks(nrows, chunk_size):\n",
    "        return range(1 * chunk_size, (nrows // chunk_size + 1) * chunk_size, chunk_size)\n",
    "    indices = index_marks(dfrm.shape[0], chunk_size)\n",
    "    return np.split(dfrm, indices)"
   ]
  },
  {
   "cell_type": "code",
   "execution_count": 11,
   "metadata": {},
   "outputs": [],
   "source": [
    "chunk_size = 8"
   ]
  },
  {
   "cell_type": "code",
   "execution_count": 12,
   "metadata": {},
   "outputs": [],
   "source": [
    "chunks = split(hits_df, chunk_size)"
   ]
  },
  {
   "cell_type": "code",
   "execution_count": 13,
   "metadata": {},
   "outputs": [],
   "source": [
    "i = 0\n",
    "\n",
    "for c in chunks:\n",
    "    i += 1\n",
    "    img = PandasTools.FrameToGridImage(c,\n",
    "                                      column='mol',\n",
    "                                      subImgSize=(300, 300),\n",
    "                                      legendsCol='ID',\n",
    "                                      molsPerRow=4,\n",
    "                                      useSVG=False)\n",
    "    img.save(\"substruct_hits_\" + str(i) + \".png\")"
   ]
  }
 ],
 "metadata": {
  "kernelspec": {
   "display_name": "Python 3",
   "language": "python",
   "name": "python3"
  },
  "language_info": {
   "codemirror_mode": {
    "name": "ipython",
    "version": 3
   },
   "file_extension": ".py",
   "mimetype": "text/x-python",
   "name": "python",
   "nbconvert_exporter": "python",
   "pygments_lexer": "ipython3",
   "version": "3.7.4"
  }
 },
 "nbformat": 4,
 "nbformat_minor": 2
}
